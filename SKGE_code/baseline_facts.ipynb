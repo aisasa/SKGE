{
 "cells": [
  {
   "cell_type": "markdown",
   "metadata": {},
   "source": [
    "#### Some imports and datasets loading"
   ]
  },
  {
   "cell_type": "code",
   "execution_count": 1,
   "metadata": {},
   "outputs": [],
   "source": [
    "import numpy as np\n",
    "import pickle\n",
    "from utils import utils_vectorize as uv\n",
    "\n",
    "with open('datasets/msrpar_samples.pkl', 'rb') as f: \n",
    "    par_samples, par_gold_scores = pickle.load(f)\n",
    "with open('datasets/msrvid_samples.pkl', 'rb') as f: \n",
    "    vid_samples, vid_gold_scores = pickle.load(f)\n",
    "with open('datasets/msranswer_samples.pkl', 'rb') as f: \n",
    "    answer_samples, answer_gold_scores = pickle.load(f)\n",
    "with open('datasets/def2def_samples.pkl', 'rb') as f: \n",
    "    def2def_samples, def2def_gold_scores = pickle.load(f)"
   ]
  },
  {
   "cell_type": "markdown",
   "metadata": {},
   "source": [
    "#### Functions"
   ]
  },
  {
   "cell_type": "code",
   "execution_count": null,
   "metadata": {},
   "outputs": [],
   "source": [
    "# Combinations: composition = (sum | ICDS); sim = (cos | ICM | euclid | dot prod)\n",
    "# Receives a fact/triplet and returns a representative embedding, including subject, relation and object embeddings\n",
    "def txtfact_to_vector(fact:tuple, stop_words=False, punct_marks=False, embed_model='w2v', mu='ratio'):\n",
    "    # 1. A sequential composition into each element of triplet\n",
    "    #v_subj = uv.sum_vectorize(fact[0], stop_words=stop_words, punct_marks=punct_marks) * .9 \n",
    "    #v_rel = uv.sum_vectorize(fact[1], stop_words=stop_words, punct_marks=punct_marks) \n",
    "    #v_obj = uv.sum_vectorize(fact[2], stop_words=stop_words, punct_marks=punct_marks) * 2. \n",
    "    v_subj = uv.icds_vectorize(fact[0], stop_words=stop_words, punct_marks=punct_marks, embed_model=embed_model, mu=mu) #* 1.\n",
    "    v_rel = uv.icds_vectorize(fact[1], stop_words=stop_words, punct_marks=punct_marks, embed_model=embed_model, mu=mu) #* 1\n",
    "    v_obj = uv.icds_vectorize(fact[2], stop_words=stop_words, punct_marks=punct_marks, embed_model=embed_model, mu=mu) * 2.  \n",
    "    # 2. A last composition (see other composition functions) of the whole fact\n",
    "    #v_fact = v_subj + v_rel + v_obj\n",
    "    v_fact = uv.icds_composition(v_rel, v_obj)\n",
    "    v_fact = uv.icds_composition(v_fact, v_subj)   # Best composition order\n",
    "    return(v_fact, v_subj, v_rel, v_obj)\n",
    "\n",
    "# Receives a complete knowledge graph (representative of a sentence) and returns a single vector\n",
    "def txtkg_to_vector(txt_kg, stop_words=False, punct_marks=False, embed_model='w2v', mu='ratio'):\n",
    "    n_facts = len(txt_kg)\n",
    "    kg_vectors = []\n",
    "    for txt_fact in txt_kg:\n",
    "        v_fact, _, _, _ = txtfact_to_vector(txt_fact, stop_words=stop_words, punct_marks=punct_marks, embed_model=embed_model, mu=mu)\n",
    "        kg_vectors.append(v_fact)\n",
    "    kg_vector = np.zeros(300)\n",
    "    for vector in kg_vectors:\n",
    "        kg_vector = kg_vector + vector\n",
    "        #kg_vector = uv.icds_composition(kg_vector, vector)\n",
    "    return(kg_vector)\n",
    "\n",
    "# Receives a pair of knowldege graphs (two sentences) and returns a similarity measure between the two sentences\n",
    "def txtpair_sim(kg_pair, stop_words=True, punct_marks=False, embed_model='w2v', mu='ratio'):     \n",
    "    sims = []\n",
    "    kg0 = kg_pair[0]\n",
    "    kg1 = kg_pair[1]\n",
    "    kg0_vector = txtkg_to_vector(kg0, stop_words=stop_words, punct_marks=punct_marks, embed_model=embed_model, mu=mu)\n",
    "    kg1_vector = txtkg_to_vector(kg1, stop_words=stop_words, punct_marks=punct_marks, embed_model=embed_model, mu=mu)\n",
    "    sim = max(0, uv.cos_sim(kg0_vector, kg1_vector))  \n",
    "    #sim = uv.icm_sim(kg0_vector, kg1_vector, beta=1.2)     # icm sim \n",
    "    #sim = kg0_vector @ kg1_vector                          # dot sim\n",
    "    #sim = np.linalg.norm(kg0_vector - kg1_vector)          # eucl sim\n",
    "    return(sim)\n",
    "\n",
    "# Correlation with trues in a dataset of KG pairs\n",
    "def txt_kgs_sim(ds_txt_pairs, true_scores, stop_words=True, punct_marks=False, embed_model='w2v', mu='ratio'):\n",
    "    sims = []\n",
    "    for pair in ds_txt_pairs:\n",
    "        sims.append(txtpair_sim(pair, stop_words=stop_words, punct_marks=punct_marks, embed_model=embed_model, mu=mu))\n",
    "    correlation = np.corrcoef(sims, np.array(true_scores))[0][1]\n",
    "    return(correlation, np.array(sims))"
   ]
  },
  {
   "cell_type": "markdown",
   "metadata": {},
   "source": [
    "#### Tests"
   ]
  },
  {
   "cell_type": "code",
   "execution_count": 43,
   "metadata": {},
   "outputs": [
    {
     "name": "stdout",
     "output_type": "stream",
     "text": [
      "Corr. for MSRpar: 0.5011930360856764 \n",
      "\n",
      "Corr. for MSRvid: 0.8199665210729021 \n",
      "\n",
      "Corr. for MSRanswer: 0.4308747028354711 \n",
      "\n",
      "Corr. for def2def: 0.4860895691212907 \n",
      "\n",
      "\tCorrelations mean: 0.5595309572788351\n"
     ]
    }
   ],
   "source": [
    "# Test data\n",
    "names = ['MSRpar', 'MSRvid', 'MSRanswer', 'def2def']\n",
    "sets = [par_samples, vid_samples, answer_samples, def2def_samples]\n",
    "true_scores = [par_gold_scores, vid_gold_scores, answer_gold_scores, def2def_gold_scores]\n",
    "correlations = []\n",
    "\n",
    "# Test combinations: embedding = ('w2v', 'glove'); mu = (0, 1, 'ratio')\n",
    "for idx, elem in enumerate(sets):\n",
    "    scores = true_scores[idx]\n",
    "    corr, sims = txt_kgs_sim(elem, scores, stop_words=True, \n",
    "                               punct_marks=False, embed_model='w2v', mu='ratio')   \n",
    "    correlations.append(corr)\n",
    "    #print('True scores min, max, mean and std:',np.min(scores), np.max(scores), np.mean(scores), np.std(scores))\n",
    "    #print('Sim scores min, max, mean and std:', np.min(sims*5), np.max(sims*5), np.mean(sims*5), np.std(sims*5))\n",
    "    print('Corr. for', names[idx]+':', corr, '\\n')\n",
    "print('\\tCorrelations mean:', np.mean(np.array(correlations)))\n",
    "\n",
    "#paper_refs = [0.42, 0.82, 0.52, 0.52] # -> mean = .57 | W2V + BEST STR + F.INF + COS\n",
    "# This file: ok 20250318"
   ]
  }
 ],
 "metadata": {
  "kernelspec": {
   "display_name": "Python 3",
   "language": "python",
   "name": "python3"
  },
  "language_info": {
   "codemirror_mode": {
    "name": "ipython",
    "version": 3
   },
   "file_extension": ".py",
   "mimetype": "text/x-python",
   "name": "python",
   "nbconvert_exporter": "python",
   "pygments_lexer": "ipython3",
   "version": "3.11.8"
  }
 },
 "nbformat": 4,
 "nbformat_minor": 2
}
