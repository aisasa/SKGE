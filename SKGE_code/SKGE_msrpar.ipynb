{
 "cells": [
  {
   "cell_type": "markdown",
   "metadata": {},
   "source": [
    "#### Imports and dataset loading"
   ]
  },
  {
   "cell_type": "code",
   "execution_count": 2,
   "metadata": {},
   "outputs": [],
   "source": [
    "import numpy as np\n",
    "import pickle\n",
    "from scipy.special import softmax\n",
    "from utils import utils_vectorize as uv\n",
    "\n",
    "with open('datasets/msrpar_samples.pkl', 'rb') as f: \n",
    "    par_samples, par_gold_scores = pickle.load(f)"
   ]
  },
  {
   "cell_type": "markdown",
   "metadata": {},
   "source": [
    "#### Model functions"
   ]
  },
  {
   "cell_type": "code",
   "execution_count": null,
   "metadata": {},
   "outputs": [],
   "source": [
    "def fact_to_vector(fact:tuple, stop_words=False, punct_marks=False, embed_model='w2v', mu='ratio'):\n",
    "    # 1. A sequential composition into each element of triplet\n",
    "    v_subj = uv.icds_vectorize(fact[0], stop_words=stop_words, punct_marks=punct_marks, embed_model=embed_model, mu=mu) * .4 \n",
    "    v_rel = uv.icds_vectorize(fact[1], stop_words=stop_words, punct_marks=punct_marks, embed_model=embed_model, mu=mu) * .2    \n",
    "    v_obj = uv.icds_vectorize(fact[2], stop_words=stop_words, punct_marks=punct_marks, embed_model=embed_model, mu=mu) * 2.2 \n",
    "    # 2. A full composition on whole triplet\n",
    "    #v_fact = v_subj + v_rel + v_obj\n",
    "    v_subj_rel = uv.icds_composition(v_subj, v_rel)\n",
    "    v_subj_obj = uv.icds_composition(v_subj, v_obj)\n",
    "    v_rel_obj = uv.icds_composition(v_rel, v_obj)\n",
    "    v_fact = uv.icds_composition(v_subj, v_rel_obj)  \n",
    "    return(v_fact, v_subj, v_rel, v_obj)\n",
    "\n",
    "# Self-attention\n",
    "def kgtxt_to_selfatt_vectors(txt_kg, stop_words=False, punct_marks=False, beta=1.2, embed_model='w2v', mu='ratio'):\n",
    "    n_facts = len(txt_kg)\n",
    "    weight_mtrx = np.empty((n_facts, n_facts))\n",
    "    v_kg = []\n",
    "    for txt_fact in txt_kg:\n",
    "        v_fact, _, _, _ = fact_to_vector(txt_fact, stop_words=stop_words, punct_marks=punct_marks, embed_model=embed_model, mu=mu)\n",
    "        v_kg.append(v_fact)\n",
    "    # 1. Compute fact-wise similarity (self-attention scores)\n",
    "    for idx in range(n_facts):\n",
    "        norm0 = np.max([1.e-125, np.linalg.norm(v_kg[idx])])\n",
    "        for jdx in range(n_facts):\n",
    "            norm1 = np.max([1.e-125, np.linalg.norm(v_kg[jdx])])\n",
    "            norms_ratio = max(1.e-125, np.min([norm0, norm1])/np.max([norm0, norm1])) \n",
    "            # Joint information content = IC(x,y) = IC(x) + IC(y) - <x,y>. Here ICM like dot product, with beta = 1.01  \n",
    "            #weight_mtrx[idx][jdx] = (norm0**2 + norm1**2 - uv.cos_sim(v_kg[idx], v_kg[jdx]))  \n",
    "            weight_mtrx[idx][jdx] = (norms_ratio ** 2) * uv.cos_sim(v_kg[idx], v_kg[jdx])  \n",
    "    # 2. Softmax/normalizing (self-att weights)\n",
    "    #norm_weight_mtrx = softmax(weight_mtrx, axis=1)\n",
    "    norm_weight_mtrx = np.apply_along_axis(np.tanh, axis=1, arr=weight_mtrx)\n",
    "    #norm_weight_mtrx = np.apply_along_axis(uv.sigmoid, axis=1, arr=weight_mtrx)\n",
    "    #norm_weight_mtrx = weight_mtrx \n",
    "    # 3. Context vectors (new contextual embeddings)\n",
    "    self_att_mtrx = norm_weight_mtrx @ np.array(v_kg) \n",
    "    #print(self_att_mtrx)\n",
    "    return(self_att_mtrx, np.array(v_kg))"
   ]
  },
  {
   "cell_type": "code",
   "execution_count": null,
   "metadata": {},
   "outputs": [],
   "source": [
    "# Functions to get similarity between two KGs\n",
    "# Combinations: composition = (sum | ICDS); sim = (cos | ICM | euclid | dot prod); sents_sim: (mean | median | bidir | bertscore)\n",
    "def pair_sim(kg_pair, self_att=True, stop_words=True, punct_marks=False, beta=1.2, embed_model='w2v', mu='ratio'):      # List of tuples of 3 strings\n",
    "    sims = []\n",
    "    kg0 = kg_pair[0]\n",
    "    kg1 = kg_pair[1]\n",
    "    n_facts_kg0 = len(kg0)\n",
    "    n_facts_kg1 = len(kg1)\n",
    "    n_sims = n_facts_kg0 * n_facts_kg1\n",
    "    sim_mtrx = np.empty((n_facts_kg0, n_facts_kg1))\n",
    "    if self_att:\n",
    "        self_att_mtrx0, _ = kgtxt_to_selfatt_vectors(kg0, stop_words=stop_words, punct_marks=punct_marks, beta=beta, embed_model=embed_model, mu=mu)\n",
    "        self_att_mtrx1, _ = kgtxt_to_selfatt_vectors(kg1, stop_words=stop_words, punct_marks=punct_marks, beta=beta, embed_model=embed_model, mu=mu)\n",
    "        for idx in range(n_facts_kg0):\n",
    "            norm0 = np.max([1.e-125, np.linalg.norm(self_att_mtrx0[idx])])\n",
    "            for jdx in range(n_facts_kg1):\n",
    "                norm1 = np.max([1.e-125, np.linalg.norm(self_att_mtrx1[jdx])])\n",
    "                norms_weight = np.max(max(1.e-125, np.min([norm0, norm1])/np.max([norm0, norm1])))\n",
    "                ic_01 = (abs(norm0 + norm1 - self_att_mtrx0[idx] @ self_att_mtrx1[jdx])) \n",
    "                sim_mtrx[idx][jdx] = max(0, uv.cos_sim(self_att_mtrx0[idx], self_att_mtrx1[jdx])) \n",
    "                #sim_mtrx[idx][jdx] = uv.icm_sim(self_att_mtrx0[idx], self_att_mtrx1[jdx], beta=beta) \n",
    "                #sim_mtrx[idx][jdx] = np.linalg.norm(self_att_mtrx0[idx] - self_att_mtrx1[jdx])          \n",
    "                #sim_mtrx[idx][jdx] = self_att_mtrx0[idx] @ self_att_mtrx1[jdx].T \n",
    "    else:           # No self-attention\n",
    "        for idx, fact0 in enumerate(kg0):\n",
    "            fact0_vector, _, _, _ = fact_to_vector(fact0, stop_words=stop_words, punct_marks=punct_marks, embed_model=embed_model, mu=mu) \n",
    "            norm0 = np.linalg.norm(fact0_vector)\n",
    "            for jdx, fact1 in enumerate(kg1):\n",
    "                fact1_vector, _, _, _ = fact_to_vector(fact1, stop_words=stop_words, punct_marks=punct_marks, embed_model=embed_model, mu=mu) \n",
    "                norm1 = np.linalg.norm(fact1_vector)\n",
    "                sim_mtrx[idx][jdx] = max(0, uv.cos_sim(fact0_vector, fact1_vector)) \n",
    "                #sim_mtrx[idx][jdx] = uv.icm_sim(fact0_vector, fact1_vector, beta=1.4) \n",
    "    #print(sim_mtrx)\n",
    "    sents_sim = (np.median(sim_mtrx)) \n",
    "    #sents_sim = uv.bidir_avgmax_sim(sim_mtrx, stdst='mean') \n",
    "    #sents_sim = uv.bertscore(sim_mtrx)\n",
    "    return(sents_sim)\n",
    "\n",
    "# Correlation with true in a dataset of KG pairs\n",
    "def ds_sents_sim(ds, true_scores, self_att=True, stop_words=True, punct_marks=False, beta=1.2, embed_model='w2v', mu='ratio'):\n",
    "    sims = []\n",
    "    for pair in ds:\n",
    "        sims.append(pair_sim(pair, self_att=self_att, stop_words=stop_words, punct_marks=punct_marks, beta=beta, embed_model=embed_model, mu=mu))\n",
    "    correlation = np.corrcoef(sims, np.array(true_scores))[0][1]\n",
    "    return(correlation, np.array(sims))"
   ]
  },
  {
   "cell_type": "markdown",
   "metadata": {},
   "source": [
    "### Tests"
   ]
  },
  {
   "cell_type": "code",
   "execution_count": 162,
   "metadata": {},
   "outputs": [
    {
     "name": "stdout",
     "output_type": "stream",
     "text": [
      "True scores min, max, mean and std: 0.5 5.0 3.21282 0.8924830192222147\n",
      "Sim scores min, max, mean and std: 0.821734111865208 4.998685502098209 3.8126130467635067 0.843106047711538\n",
      "Corr. for MSRpar: 0.6170410954647941 \n",
      "\n"
     ]
    }
   ],
   "source": [
    "# Test combinations: embedding = ('w2v', 'glove'); mu = (0, 1, 'ratio')\n",
    "samples = par_samples\n",
    "scores = par_gold_scores\n",
    "corr, sims = ds_sents_sim(samples, scores, self_att=True,  \n",
    "                        stop_words=False, punct_marks=False, beta=1.5, embed_model='w2v', mu='ratio')   \n",
    "print('True scores min, max, mean and std:',np.min(scores), np.max(scores), np.mean(scores), np.std(scores))\n",
    "print('Sim scores min, max, mean and std:', np.min(sims*5), np.max(sims*5), np.mean(sims*5), np.std(sims*5))\n",
    "print('Corr. for MSRpar:', corr, '\\n')"
   ]
  },
  {
   "cell_type": "code",
   "execution_count": null,
   "metadata": {},
   "outputs": [],
   "source": [
    "# Best results | This file: ok 20250318\n",
    "paper_ref =     [0.42]  # W2V + BEST STR + F.INF + COS\n",
    "no_self_att =   [.626]  # s_words no | sim_mtrx=bertscore | SRO ws: 1.0 0.2 3.0 | mu=0     | v_fact=subj·rel_obj\n",
    "self_att =      [.617]  # s_words no | sim_mtrx = median  | SRO ws: 0.3 0.5 2.75| mu=ratio | v_fact=subj·rel_obj | sa=tanh"
   ]
  }
 ],
 "metadata": {
  "kernelspec": {
   "display_name": "Python 3",
   "language": "python",
   "name": "python3"
  },
  "language_info": {
   "codemirror_mode": {
    "name": "ipython",
    "version": 3
   },
   "file_extension": ".py",
   "mimetype": "text/x-python",
   "name": "python",
   "nbconvert_exporter": "python",
   "pygments_lexer": "ipython3",
   "version": "3.11.8"
  }
 },
 "nbformat": 4,
 "nbformat_minor": 2
}
