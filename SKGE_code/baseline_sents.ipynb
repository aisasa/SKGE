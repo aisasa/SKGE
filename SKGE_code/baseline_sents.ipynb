{
 "cells": [
  {
   "cell_type": "markdown",
   "metadata": {},
   "source": [
    "#### Some imports and datasets loading"
   ]
  },
  {
   "cell_type": "code",
   "execution_count": 1,
   "metadata": {},
   "outputs": [],
   "source": [
    "import numpy as np\n",
    "import pickle\n",
    "from utils import utils_vectorize as uv\n",
    "\n",
    "# Loading datasets\n",
    "with open('datasets/msrpar_txt.pkl', 'rb') as f:    \n",
    "    par_txt_pairs, par_scores = pickle.load(f)\n",
    "with open('datasets/msrvid_txt.pkl', 'rb') as f:    \n",
    "    vid_txt_pairs, vid_scores = pickle.load(f)\n",
    "with open('datasets/msranswer_txt.pkl', 'rb') as f:    \n",
    "    answer_txt_pairs, answer_scores = pickle.load(f)\n",
    "with open('datasets/def2def_txt.pkl', 'rb') as f: \n",
    "    def2def_txt_pairs, def2def_scores = pickle.load(f)"
   ]
  },
  {
   "cell_type": "markdown",
   "metadata": {},
   "source": [
    "#### Functions"
   ]
  },
  {
   "cell_type": "code",
   "execution_count": null,
   "metadata": {},
   "outputs": [],
   "source": [
    "# Similarity functions between two sentences\n",
    "# Combinations: composition = (sum | ICDS); sim = (cos | ICM | dot prod | euclid)\n",
    "def txt_pair_sim(txt_pair, stop_words=True, punct_marks=False, embed_model='w2v', mu='ratio'):  \n",
    "    #v_sent0 = uv.sum_vectorize(txt_pair[0], stop_words=stop_words, punct_marks=punct_marks, embed_model=embed_model)\n",
    "    #v_sent1 = uv.sum_vectorize(txt_pair[1], stop_words=stop_words, punct_marks=punct_marks, embed_model=embed_model)\n",
    "    v_sent0 = uv.icds_vectorize(txt_pair[0], stop_words=stop_words, punct_marks=punct_marks, embed_model=embed_model, mu=mu)\n",
    "    v_sent1 = uv.icds_vectorize(txt_pair[1], stop_words=stop_words, punct_marks=punct_marks, embed_model=embed_model, mu=mu)   \n",
    "    #sents_sim = uv.cos_sim(v_sent0, v_sent1)\n",
    "    sents_sim = max(0, uv.cos_sim(v_sent0, v_sent1))        \n",
    "    #sents_sim = uv.icm_sim(v_sent0, v_sent1, beta=1.1)     # ICM sim\n",
    "    #sents_sim = v_sent0 @ v_sent1                          # dot sim\n",
    "    #sents_sim = np.linalg.norm(v_sent0 - v_sent1)          # eucl sim\n",
    "    return(sents_sim)\n",
    "\n",
    "# Correlation with trues in a dataset of pairs\n",
    "def txt_sents_sim(ds_txt_pairs, true_scores, stop_words=True, punct_marks=False, embed_model='w2v', mu='ratio'):\n",
    "    sims = []\n",
    "    for pair in ds_txt_pairs:\n",
    "        sims.append(txt_pair_sim(pair, stop_words=stop_words, punct_marks=punct_marks, embed_model=embed_model, mu=mu))\n",
    "    correlation = np.corrcoef(sims, np.array(true_scores))[0][1]\n",
    "    return(correlation, np.array(sims))"
   ]
  },
  {
   "cell_type": "markdown",
   "metadata": {},
   "source": [
    "#### Tests"
   ]
  },
  {
   "cell_type": "code",
   "execution_count": 37,
   "metadata": {},
   "outputs": [
    {
     "name": "stdout",
     "output_type": "stream",
     "text": [
      "Corr. for MSRpar: 0.4408478804523934 \n",
      "\n",
      "Corr. for MSRvid: 0.7711317385208524 \n",
      "\n",
      "Corr. for MSRanswer: 0.4575873463810465 \n",
      "\n",
      "Corr. for def2def: 0.4784509796334444 \n",
      "\n",
      "\tCorrelations mean: 0.5370044862469342\n"
     ]
    }
   ],
   "source": [
    "# Test data\n",
    "names = ['MSRpar', 'MSRvid', 'MSRanswer', 'def2def']\n",
    "sets = [par_txt_pairs, vid_txt_pairs, answer_txt_pairs, def2def_txt_pairs]\n",
    "true_scores = [par_scores, vid_scores, answer_scores, def2def_scores]\n",
    "correlations = []\n",
    "\n",
    "# Test combinations: embedding = ('w2v', 'glove'); mu = (0, 1, 'ratio')\n",
    "for idx, elem in enumerate(sets):\n",
    "    scores = true_scores[idx]\n",
    "    corr, sims = txt_sents_sim(elem, scores, stop_words=True, \n",
    "                               punct_marks=False, embed_model='w2v', mu='ratio')   \n",
    "    correlations.append(corr)\n",
    "    #print('True scores min, max, mean and std:',np.min(scores), np.max(scores), np.mean(scores), np.std(scores))\n",
    "    #print('Sim scores min, max, mean and std:', np.min(sims*5), np.max(sims*5), np.mean(sims*5), np.std(sims*5))\n",
    "    print('Corr. for', names[idx]+':', corr, '\\n')\n",
    "print('\\tCorrelations mean:', np.mean(np.array(correlations)))\n",
    "\n",
    "#paper_refs = [0.42, 0.82, 0.52, 0.53] # -> mean = .57 | W2V + BEST STR + F.INF + COS\n",
    "# This file: ok 20250318"
   ]
  }
 ],
 "metadata": {
  "kernelspec": {
   "display_name": "Python 3",
   "language": "python",
   "name": "python3"
  },
  "language_info": {
   "codemirror_mode": {
    "name": "ipython",
    "version": 3
   },
   "file_extension": ".py",
   "mimetype": "text/x-python",
   "name": "python",
   "nbconvert_exporter": "python",
   "pygments_lexer": "ipython3",
   "version": "3.11.8"
  }
 },
 "nbformat": 4,
 "nbformat_minor": 2
}
